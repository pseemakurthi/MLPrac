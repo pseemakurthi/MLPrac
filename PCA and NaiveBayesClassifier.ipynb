{
 "cells": [
  {
   "cell_type": "markdown",
   "metadata": {},
   "source": [
    "In this tutorial I will be using Naivebayes Classifier for classification of wine data before that I transform the data using PCA for reducing the variable"
   ]
  },
  {
   "cell_type": "code",
   "execution_count": 3,
   "metadata": {
    "collapsed": true
   },
   "outputs": [],
   "source": [
    "import pandas as pd\n",
    "from sklearn import preprocessing\n",
    "from sklearn.decomposition import PCA\n",
    "from matplotlib import pyplot as plt"
   ]
  },
  {
   "cell_type": "code",
   "execution_count": 4,
   "metadata": {
    "collapsed": true
   },
   "outputs": [],
   "source": [
    "url = \"https://archive.ics.uci.edu/ml/machine-learning-databases/wine-quality/winequality-red.csv\""
   ]
  },
  {
   "cell_type": "code",
   "execution_count": 5,
   "metadata": {
    "collapsed": true
   },
   "outputs": [],
   "source": [
    "data = pd.read_csv(url, sep =\";\")"
   ]
  },
  {
   "cell_type": "code",
   "execution_count": 6,
   "metadata": {
    "collapsed": false
   },
   "outputs": [
    {
     "data": {
      "text/plain": [
       "Index([u'fixed acidity', u'volatile acidity', u'citric acid',\n",
       "       u'residual sugar', u'chlorides', u'free sulfur dioxide',\n",
       "       u'total sulfur dioxide', u'density', u'pH', u'sulphates', u'alcohol',\n",
       "       u'quality'],\n",
       "      dtype='object')"
      ]
     },
     "execution_count": 6,
     "metadata": {},
     "output_type": "execute_result"
    }
   ],
   "source": [
    "data.columns"
   ]
  },
  {
   "cell_type": "code",
   "execution_count": 7,
   "metadata": {
    "collapsed": false
   },
   "outputs": [],
   "source": [
    "X = data[data.columns[[range(11)]]] #selecting the first 11 cols"
   ]
  },
  {
   "cell_type": "code",
   "execution_count": 8,
   "metadata": {
    "collapsed": false
   },
   "outputs": [],
   "source": [
    "y = data.quality"
   ]
  },
  {
   "cell_type": "code",
   "execution_count": 28,
   "metadata": {
    "collapsed": false
   },
   "outputs": [
    {
     "data": {
      "text/plain": [
       "5    681\n",
       "6    638\n",
       "7    199\n",
       "4     53\n",
       "8     18\n",
       "3     10\n",
       "Name: quality, dtype: int64"
      ]
     },
     "execution_count": 28,
     "metadata": {},
     "output_type": "execute_result"
    }
   ],
   "source": [
    "y.value_counts() # different quality types"
   ]
  },
  {
   "cell_type": "code",
   "execution_count": 9,
   "metadata": {
    "collapsed": true
   },
   "outputs": [],
   "source": [
    "#standardazing \n",
    "X = preprocessing.StandardScaler().fit(X).transform(X)"
   ]
  },
  {
   "cell_type": "code",
   "execution_count": 10,
   "metadata": {
    "collapsed": false
   },
   "outputs": [],
   "source": [
    "model = PCA()\n",
    "fit = model.fit(X)\n",
    "Z = fit.transform(X)"
   ]
  },
  {
   "cell_type": "code",
   "execution_count": 15,
   "metadata": {
    "collapsed": false
   },
   "outputs": [
    {
     "data": {
      "image/png": "[encoded data removed]",
      "text/plain": [
       "<matplotlib.figure.Figure at 0x11f38b810>"
      ]
     },
     "metadata": {},
     "output_type": "display_data"
    },
    {
     "data": {
      "text/plain": [
       "array([ 0.28173931,  0.1750827 ,  0.1409585 ,  0.11029387,  0.08720837,\n",
       "        0.05996439,  0.05307193,  0.03845061,  0.0313311 ,  0.01648483,\n",
       "        0.00541439])"
      ]
     },
     "execution_count": 15,
     "metadata": {},
     "output_type": "execute_result"
    }
   ],
   "source": [
    "%matplotlib inline\n",
    "plt.plot(fit.explained_variance_)\n",
    "plt.title(\"Scree plot for wine data\")\n",
    "plt.show()\n",
    "fit.explained_variance_ratio_"
   ]
  },
  {
   "cell_type": "markdown",
   "metadata": {},
   "source": [
    "From the above scree plot we can see that  5 components were able to explain ~78% of the variance in the data"
   ]
  },
  {
   "cell_type": "code",
   "execution_count": 21,
   "metadata": {
    "collapsed": false
   },
   "outputs": [
    {
     "data": {
      "text/html": [
       "<div>\n",
       "<table border=\"1\" class=\"dataframe\">\n",
       "  <thead>\n",
       "    <tr style=\"text-align: right;\">\n",
       "      <th></th>\n",
       "      <th>fixed acidity</th>\n",
       "      <th>volatile acidity</th>\n",
       "      <th>citric acid</th>\n",
       "      <th>residual sugar</th>\n",
       "      <th>chlorides</th>\n",
       "      <th>free sulfur dioxide</th>\n",
       "      <th>total sulfur dioxide</th>\n",
       "      <th>density</th>\n",
       "      <th>pH</th>\n",
       "      <th>sulphates</th>\n",
       "      <th>alcohol</th>\n",
       "    </tr>\n",
       "  </thead>\n",
       "  <tbody>\n",
       "    <tr>\n",
       "      <th>0</th>\n",
       "      <td>0.489314</td>\n",
       "      <td>-0.238584</td>\n",
       "      <td>0.463632</td>\n",
       "      <td>0.146107</td>\n",
       "      <td>0.212247</td>\n",
       "      <td>-0.036158</td>\n",
       "      <td>0.023575</td>\n",
       "      <td>0.395353</td>\n",
       "      <td>-0.438520</td>\n",
       "      <td>0.242921</td>\n",
       "      <td>-0.113232</td>\n",
       "    </tr>\n",
       "    <tr>\n",
       "      <th>1</th>\n",
       "      <td>-0.110503</td>\n",
       "      <td>0.274930</td>\n",
       "      <td>-0.151791</td>\n",
       "      <td>0.272080</td>\n",
       "      <td>0.148052</td>\n",
       "      <td>0.513567</td>\n",
       "      <td>0.569487</td>\n",
       "      <td>0.233575</td>\n",
       "      <td>0.006711</td>\n",
       "      <td>-0.037554</td>\n",
       "      <td>-0.386181</td>\n",
       "    </tr>\n",
       "    <tr>\n",
       "      <th>2</th>\n",
       "      <td>0.123302</td>\n",
       "      <td>0.449963</td>\n",
       "      <td>-0.238247</td>\n",
       "      <td>-0.101283</td>\n",
       "      <td>0.092614</td>\n",
       "      <td>-0.428793</td>\n",
       "      <td>-0.322415</td>\n",
       "      <td>0.338871</td>\n",
       "      <td>-0.057697</td>\n",
       "      <td>-0.279786</td>\n",
       "      <td>-0.471673</td>\n",
       "    </tr>\n",
       "    <tr>\n",
       "      <th>3</th>\n",
       "      <td>-0.229617</td>\n",
       "      <td>0.078960</td>\n",
       "      <td>-0.079418</td>\n",
       "      <td>-0.372793</td>\n",
       "      <td>0.666195</td>\n",
       "      <td>-0.043538</td>\n",
       "      <td>-0.034577</td>\n",
       "      <td>-0.174500</td>\n",
       "      <td>-0.003788</td>\n",
       "      <td>0.550872</td>\n",
       "      <td>-0.122181</td>\n",
       "    </tr>\n",
       "    <tr>\n",
       "      <th>4</th>\n",
       "      <td>0.082614</td>\n",
       "      <td>-0.218735</td>\n",
       "      <td>0.058573</td>\n",
       "      <td>-0.732144</td>\n",
       "      <td>-0.246501</td>\n",
       "      <td>0.159152</td>\n",
       "      <td>0.222465</td>\n",
       "      <td>-0.157077</td>\n",
       "      <td>-0.267530</td>\n",
       "      <td>-0.225962</td>\n",
       "      <td>-0.350681</td>\n",
       "    </tr>\n",
       "    <tr>\n",
       "      <th>5</th>\n",
       "      <td>-0.101479</td>\n",
       "      <td>-0.411449</td>\n",
       "      <td>-0.069593</td>\n",
       "      <td>-0.049156</td>\n",
       "      <td>-0.304339</td>\n",
       "      <td>0.014000</td>\n",
       "      <td>-0.136308</td>\n",
       "      <td>0.391152</td>\n",
       "      <td>0.522116</td>\n",
       "      <td>0.381263</td>\n",
       "      <td>-0.361645</td>\n",
       "    </tr>\n",
       "    <tr>\n",
       "      <th>6</th>\n",
       "      <td>0.350227</td>\n",
       "      <td>0.533735</td>\n",
       "      <td>-0.105497</td>\n",
       "      <td>-0.290663</td>\n",
       "      <td>-0.370413</td>\n",
       "      <td>0.116596</td>\n",
       "      <td>0.093662</td>\n",
       "      <td>0.170481</td>\n",
       "      <td>0.025138</td>\n",
       "      <td>0.447469</td>\n",
       "      <td>0.327651</td>\n",
       "    </tr>\n",
       "    <tr>\n",
       "      <th>7</th>\n",
       "      <td>-0.177595</td>\n",
       "      <td>-0.078775</td>\n",
       "      <td>-0.377516</td>\n",
       "      <td>0.299845</td>\n",
       "      <td>-0.357009</td>\n",
       "      <td>-0.204781</td>\n",
       "      <td>0.019036</td>\n",
       "      <td>-0.239223</td>\n",
       "      <td>-0.561391</td>\n",
       "      <td>0.374604</td>\n",
       "      <td>-0.217626</td>\n",
       "    </tr>\n",
       "    <tr>\n",
       "      <th>8</th>\n",
       "      <td>0.194021</td>\n",
       "      <td>-0.129110</td>\n",
       "      <td>-0.381450</td>\n",
       "      <td>0.007523</td>\n",
       "      <td>0.111339</td>\n",
       "      <td>0.635405</td>\n",
       "      <td>-0.592116</td>\n",
       "      <td>0.020719</td>\n",
       "      <td>-0.167746</td>\n",
       "      <td>-0.058367</td>\n",
       "      <td>0.037603</td>\n",
       "    </tr>\n",
       "    <tr>\n",
       "      <th>9</th>\n",
       "      <td>0.249523</td>\n",
       "      <td>-0.365925</td>\n",
       "      <td>-0.621677</td>\n",
       "      <td>-0.092872</td>\n",
       "      <td>0.217671</td>\n",
       "      <td>-0.248483</td>\n",
       "      <td>0.370750</td>\n",
       "      <td>0.239990</td>\n",
       "      <td>0.010970</td>\n",
       "      <td>-0.112320</td>\n",
       "      <td>0.303015</td>\n",
       "    </tr>\n",
       "    <tr>\n",
       "      <th>10</th>\n",
       "      <td>0.639691</td>\n",
       "      <td>0.002389</td>\n",
       "      <td>-0.070910</td>\n",
       "      <td>0.184030</td>\n",
       "      <td>0.053065</td>\n",
       "      <td>-0.051421</td>\n",
       "      <td>0.068702</td>\n",
       "      <td>-0.567332</td>\n",
       "      <td>0.340711</td>\n",
       "      <td>0.069555</td>\n",
       "      <td>-0.314526</td>\n",
       "    </tr>\n",
       "  </tbody>\n",
       "</table>\n",
       "</div>"
      ],
      "text/plain": [
       "    fixed acidity  volatile acidity  citric acid  residual sugar  chlorides  \\\n",
       "0        0.489314         -0.238584     0.463632        0.146107   0.212247   \n",
       "1       -0.110503          0.274930    -0.151791        0.272080   0.148052   \n",
       "2        0.123302          0.449963    -0.238247       -0.101283   0.092614   \n",
       "3       -0.229617          0.078960    -0.079418       -0.372793   0.666195   \n",
       "4        0.082614         -0.218735     0.058573       -0.732144  -0.246501   \n",
       "5       -0.101479         -0.411449    -0.069593       -0.049156  -0.304339   \n",
       "6        0.350227          0.533735    -0.105497       -0.290663  -0.370413   \n",
       "7       -0.177595         -0.078775    -0.377516        0.299845  -0.357009   \n",
       "8        0.194021         -0.129110    -0.381450        0.007523   0.111339   \n",
       "9        0.249523         -0.365925    -0.621677       -0.092872   0.217671   \n",
       "10       0.639691          0.002389    -0.070910        0.184030   0.053065   \n",
       "\n",
       "    free sulfur dioxide  total sulfur dioxide   density        pH  sulphates  \\\n",
       "0             -0.036158              0.023575  0.395353 -0.438520   0.242921   \n",
       "1              0.513567              0.569487  0.233575  0.006711  -0.037554   \n",
       "2             -0.428793             -0.322415  0.338871 -0.057697  -0.279786   \n",
       "3             -0.043538             -0.034577 -0.174500 -0.003788   0.550872   \n",
       "4              0.159152              0.222465 -0.157077 -0.267530  -0.225962   \n",
       "5              0.014000             -0.136308  0.391152  0.522116   0.381263   \n",
       "6              0.116596              0.093662  0.170481  0.025138   0.447469   \n",
       "7             -0.204781              0.019036 -0.239223 -0.561391   0.374604   \n",
       "8              0.635405             -0.592116  0.020719 -0.167746  -0.058367   \n",
       "9             -0.248483              0.370750  0.239990  0.010970  -0.112320   \n",
       "10            -0.051421              0.068702 -0.567332  0.340711   0.069555   \n",
       "\n",
       "     alcohol  \n",
       "0  -0.113232  \n",
       "1  -0.386181  \n",
       "2  -0.471673  \n",
       "3  -0.122181  \n",
       "4  -0.350681  \n",
       "5  -0.361645  \n",
       "6   0.327651  \n",
       "7  -0.217626  \n",
       "8   0.037603  \n",
       "9   0.303015  \n",
       "10 -0.314526  "
      ]
     },
     "execution_count": 21,
     "metadata": {},
     "output_type": "execute_result"
    }
   ],
   "source": [
    "pd.DataFrame(fit.components_,columns= list(data.columns[[range(11)]]))"
   ]
  },
  {
   "cell_type": "code",
   "execution_count": 25,
   "metadata": {
    "collapsed": true
   },
   "outputs": [],
   "source": [
    "#NaiveBayes classifier\n",
    "from sklearn.cross_validation import train_test_split\n",
    "from sklearn.naive_bayes import GaussianNB\n",
    "from sklearn.metrics import confusion_matrix"
   ]
  },
  {
   "cell_type": "code",
   "execution_count": 29,
   "metadata": {
    "collapsed": true
   },
   "outputs": [],
   "source": [
    "X_train, X_test, y_train, y_test = train_test_split(X,y, random_state =0)"
   ]
  },
  {
   "cell_type": "code",
   "execution_count": 36,
   "metadata": {
    "collapsed": false
   },
   "outputs": [
    {
     "name": "stdout",
     "output_type": "stream",
     "text": [
      "[[  3   2   4   1   0   0]\n",
      " [  1   8  29  13   1   1]\n",
      " [  4  26 456 171  24   0]\n",
      " [  0  19 185 318 111   5]\n",
      " [  0   1  12  74 110   2]\n",
      " [  0   0   0   5  11   2]]\n",
      "897\n"
     ]
    }
   ],
   "source": [
    "gnb = GaussianNB()\n",
    "fit = gnb.fit(X,y)\n",
    "predict = fit.predict(X)\n",
    "print confusion_matrix(y,predict)\n",
    "print confusion_matrix(y,predict).trace() #sum of all diagonal elemnet -> correctly classified "
   ]
  },
  {
   "cell_type": "code",
   "execution_count": 42,
   "metadata": {
    "collapsed": false
   },
   "outputs": [
    {
     "data": {
      "text/plain": [
       "0.5609756097560976"
      ]
     },
     "execution_count": 42,
     "metadata": {},
     "output_type": "execute_result"
    }
   ],
   "source": [
    "float(confusion_matrix(predict,y).trace())/X.shape[0] #56% accuracy"
   ]
  },
  {
   "cell_type": "code",
   "execution_count": 57,
   "metadata": {
    "collapsed": true
   },
   "outputs": [],
   "source": [
    "predict_correct = []"
   ]
  },
  {
   "cell_type": "code",
   "execution_count": 58,
   "metadata": {
    "collapsed": false
   },
   "outputs": [
    {
     "name": "stdout",
     "output_type": "stream",
     "text": [
      "[712]\n",
      "[712, 816]\n",
      "[712, 816, 903]\n",
      "[712, 816, 903, 893]\n",
      "[712, 816, 903, 893, 904]\n",
      "[712, 816, 903, 893, 904, 920]\n",
      "[712, 816, 903, 893, 904, 920, 930]\n",
      "[712, 816, 903, 893, 904, 920, 930, 927]\n",
      "[712, 816, 903, 893, 904, 920, 930, 927, 937]\n",
      "[712, 816, 903, 893, 904, 920, 930, 927, 937, 924]\n"
     ]
    },
    {
     "data": {
      "image/png": "[encoded data removed]",
      "text/plain": [
       "<matplotlib.figure.Figure at 0x11f44e810>"
      ]
     },
     "metadata": {},
     "output_type": "display_data"
    }
   ],
   "source": [
    "for i in range(1,11):\n",
    "    model = PCA(n_components=i)\n",
    "    trans = model.fit(X)\n",
    "    Z = trans.transform(X)\n",
    "    fit = gnb.fit(Z,y)\n",
    "    pred = fit.predict(Z)\n",
    "    predict_correct.append(confusion_matrix(pred,y).trace())\n",
    "    print predict_correct\n",
    "\n",
    "plt.plot(predict_correct)\n",
    "plt.title(\"prediction vs no of components\")\n",
    "plt.show()"
   ]
  },
  {
   "cell_type": "markdown",
   "metadata": {},
   "source": [
    "we are able to achieve almost same level of accuracy with 3 eigen vectors as 5 eigen vectors "
   ]
  }
 ],
 "metadata": {
  "kernelspec": {
   "display_name": "Python 2",
   "language": "python",
   "name": "python2"
  },
  "language_info": {
   "codemirror_mode": {
    "name": "ipython",
    "version": 2
   },
   "file_extension": ".py",
   "mimetype": "text/x-python",
   "name": "python",
   "nbconvert_exporter": "python",
   "pygments_lexer": "ipython2",
   "version": "2.7.12"
  }
 },
 "nbformat": 4,
 "nbformat_minor": 0
}
