{
 "cells": [
  {
   "cell_type": "code",
   "execution_count": 1,
   "metadata": {
    "collapsed": true
   },
   "outputs": [],
   "source": [
    "import tarfile\n",
    "from sklearn.linear_model import SGDClassifier #Stochastic Gradient Classifier\n",
    "from sklearn.metrics import classification_report\n",
    "from sklearn.datasets import load_svmlight_file\n",
    "import numpy as np"
   ]
  },
  {
   "cell_type": "code",
   "execution_count": 2,
   "metadata": {
    "collapsed": false
   },
   "outputs": [],
   "source": [
    "location = \"url_svmlight.tar.gz\"\n",
    "tar = tarfile.open(location,\"r:gz\")"
   ]
  },
  {
   "cell_type": "code",
   "execution_count": 3,
   "metadata": {
    "collapsed": true
   },
   "outputs": [],
   "source": [
    "max_obs = 0\n",
    "max_vars = 0"
   ]
  },
  {
   "cell_type": "code",
   "execution_count": 4,
   "metadata": {
    "collapsed": false
   },
   "outputs": [],
   "source": [
    "'''checking the size of files and the file name; making sure we read only the required files'''  \n",
    "i =0\n",
    "temp = [(tarinfo.size, tarinfo.name) for tarinfo in tar]"
   ]
  },
  {
   "cell_type": "code",
   "execution_count": 5,
   "metadata": {
    "collapsed": false
   },
   "outputs": [],
   "source": [
    "#Sorting the tuples in the list by size of each file\n",
    "temp.sort(key = lambda l:l[0])"
   ]
  },
  {
   "cell_type": "code",
   "execution_count": 6,
   "metadata": {
    "collapsed": false
   },
   "outputs": [
    {
     "data": {
      "text/plain": [
       "[(0, 'url_svmlight'),\n",
       " (212, 'url_svmlight/FeatureTypes'),\n",
       " (119513, 'url_svmlight/Day45.svm'),\n",
       " (14753970, 'url_svmlight/Day0.svm'),\n",
       " (16660190, 'url_svmlight/Day26.svm'),\n",
       " (17782131, 'url_svmlight/Day119.svm'),\n",
       " (17881625, 'url_svmlight/Day110.svm'),\n",
       " (17909108, 'url_svmlight/Day107.svm'),\n",
       " (17948544, 'url_svmlight/Day109.svm'),\n",
       " (17996727, 'url_svmlight/Day118.svm'),\n",
       " (18017060, 'url_svmlight/Day106.svm'),\n",
       " (18026795, 'url_svmlight/Day104.svm'),\n",
       " (18079561, 'url_svmlight/Day13.svm'),\n",
       " (18103076, 'url_svmlight/Day18.svm'),\n",
       " (18106370, 'url_svmlight/Day117.svm'),\n",
       " (18108170, 'url_svmlight/Day77.svm'),\n",
       " (18108218, 'url_svmlight/Day91.svm'),\n",
       " (18128199, 'url_svmlight/Day115.svm'),\n",
       " (18129220, 'url_svmlight/Day19.svm'),\n",
       " (18135905, 'url_svmlight/Day28.svm'),\n",
       " (18137798, 'url_svmlight/Day105.svm'),\n",
       " (18151594, 'url_svmlight/Day79.svm'),\n",
       " (18153302, 'url_svmlight/Day112.svm'),\n",
       " (18164284, 'url_svmlight/Day80.svm'),\n",
       " (18174909, 'url_svmlight/Day93.svm'),\n",
       " (18178799, 'url_svmlight/Day14.svm'),\n",
       " (18185054, 'url_svmlight/Day27.svm'),\n",
       " (18189324, 'url_svmlight/Day113.svm'),\n",
       " (18202456, 'url_svmlight/Day78.svm'),\n",
       " (18217956, 'url_svmlight/Day108.svm'),\n",
       " (18221606, 'url_svmlight/Day90.svm'),\n",
       " (18223979, 'url_svmlight/Day92.svm'),\n",
       " (18229779, 'url_svmlight/Day120.svm'),\n",
       " (18240774, 'url_svmlight/Day83.svm'),\n",
       " (18241188, 'url_svmlight/Day89.svm'),\n",
       " (18263769, 'url_svmlight/Day15.svm'),\n",
       " (18279089, 'url_svmlight/Day60.svm'),\n",
       " (18280946, 'url_svmlight/Day94.svm'),\n",
       " (18287143, 'url_svmlight/Day76.svm'),\n",
       " (18287907, 'url_svmlight/Day82.svm'),\n",
       " (18311127, 'url_svmlight/Day81.svm'),\n",
       " (18325661, 'url_svmlight/Day116.svm'),\n",
       " (18325759, 'url_svmlight/Day59.svm'),\n",
       " (18336714, 'url_svmlight/Day85.svm'),\n",
       " (18353027, 'url_svmlight/Day17.svm'),\n",
       " (18370692, 'url_svmlight/Day4.svm'),\n",
       " (18372122, 'url_svmlight/Day16.svm'),\n",
       " (18374890, 'url_svmlight/Day23.svm'),\n",
       " (18386604, 'url_svmlight/Day2.svm'),\n",
       " (18390302, 'url_svmlight/Day1.svm'),\n",
       " (18399760, 'url_svmlight/Day111.svm'),\n",
       " (18404028, 'url_svmlight/Day98.svm'),\n",
       " (18405452, 'url_svmlight/Day12.svm'),\n",
       " (18411385, 'url_svmlight/Day61.svm'),\n",
       " (18411420, 'url_svmlight/Day3.svm'),\n",
       " (18412519, 'url_svmlight/Day58.svm'),\n",
       " (18415702, 'url_svmlight/Day44.svm'),\n",
       " (18430312, 'url_svmlight/Day43.svm'),\n",
       " (18437860, 'url_svmlight/Day5.svm'),\n",
       " (18443614, 'url_svmlight/Day84.svm'),\n",
       " (18453604, 'url_svmlight/Day41.svm'),\n",
       " (18460563, 'url_svmlight/Day57.svm'),\n",
       " (18461087, 'url_svmlight/Day42.svm'),\n",
       " (18463522, 'url_svmlight/Day56.svm'),\n",
       " (18464828, 'url_svmlight/Day88.svm'),\n",
       " (18482365, 'url_svmlight/Day55.svm'),\n",
       " (18492299, 'url_svmlight/Day96.svm'),\n",
       " (18507440, 'url_svmlight/Day87.svm'),\n",
       " (18509755, 'url_svmlight/Day11.svm'),\n",
       " (18521076, 'url_svmlight/Day25.svm'),\n",
       " (18528250, 'url_svmlight/Day10.svm'),\n",
       " (18541606, 'url_svmlight/Day86.svm'),\n",
       " (18548474, 'url_svmlight/Day74.svm'),\n",
       " (18558713, 'url_svmlight/Day6.svm'),\n",
       " (18569924, 'url_svmlight/Day46.svm'),\n",
       " (18578473, 'url_svmlight/Day36.svm'),\n",
       " (18583189, 'url_svmlight/Day9.svm'),\n",
       " (18586241, 'url_svmlight/Day8.svm'),\n",
       " (18589108, 'url_svmlight/Day103.svm'),\n",
       " (18589488, 'url_svmlight/Day37.svm'),\n",
       " (18593727, 'url_svmlight/Day71.svm'),\n",
       " (18596539, 'url_svmlight/Day68.svm'),\n",
       " (18598704, 'url_svmlight/Day75.svm'),\n",
       " (18599211, 'url_svmlight/Day32.svm'),\n",
       " (18614598, 'url_svmlight/Day34.svm'),\n",
       " (18616697, 'url_svmlight/Day31.svm'),\n",
       " (18621233, 'url_svmlight/Day114.svm'),\n",
       " (18627942, 'url_svmlight/Day95.svm'),\n",
       " (18633460, 'url_svmlight/Day20.svm'),\n",
       " (18634088, 'url_svmlight/Day73.svm'),\n",
       " (18635703, 'url_svmlight/Day65.svm'),\n",
       " (18650683, 'url_svmlight/Day70.svm'),\n",
       " (18652021, 'url_svmlight/Day72.svm'),\n",
       " (18660363, 'url_svmlight/Day47.svm'),\n",
       " (18666134, 'url_svmlight/Day67.svm'),\n",
       " (18668397, 'url_svmlight/Day66.svm'),\n",
       " (18668751, 'url_svmlight/Day51.svm'),\n",
       " (18674876, 'url_svmlight/Day33.svm'),\n",
       " (18690303, 'url_svmlight/Day101.svm'),\n",
       " (18710358, 'url_svmlight/Day29.svm'),\n",
       " (18714222, 'url_svmlight/Day64.svm'),\n",
       " (18727391, 'url_svmlight/Day52.svm'),\n",
       " (18731416, 'url_svmlight/Day30.svm'),\n",
       " (18757536, 'url_svmlight/Day63.svm'),\n",
       " (18760850, 'url_svmlight/Day62.svm'),\n",
       " (18761639, 'url_svmlight/Day102.svm'),\n",
       " (18763423, 'url_svmlight/Day24.svm'),\n",
       " (18772561, 'url_svmlight/Day21.svm'),\n",
       " (18776268, 'url_svmlight/Day48.svm'),\n",
       " (18777054, 'url_svmlight/Day7.svm'),\n",
       " (18784050, 'url_svmlight/Day35.svm'),\n",
       " (18789073, 'url_svmlight/Day40.svm'),\n",
       " (18805155, 'url_svmlight/Day100.svm'),\n",
       " (18819773, 'url_svmlight/Day99.svm'),\n",
       " (18833179, 'url_svmlight/Day22.svm'),\n",
       " (18845448, 'url_svmlight/Day69.svm'),\n",
       " (18865714, 'url_svmlight/Day39.svm'),\n",
       " (18869826, 'url_svmlight/Day50.svm'),\n",
       " (18909093, 'url_svmlight/Day97.svm'),\n",
       " (18910444, 'url_svmlight/Day49.svm'),\n",
       " (18963938, 'url_svmlight/Day53.svm'),\n",
       " (18968684, 'url_svmlight/Day38.svm'),\n",
       " (19037622, 'url_svmlight/Day54.svm')]"
      ]
     },
     "execution_count": 6,
     "metadata": {},
     "output_type": "execute_result"
    }
   ],
   "source": [
    "temp\n",
    "#looks like data filesanmes ending with svm"
   ]
  },
  {
   "cell_type": "code",
   "execution_count": 8,
   "metadata": {
    "collapsed": false
   },
   "outputs": [
    {
     "name": "stdout",
     "output_type": "stream",
     "text": [
      "max X = 3231961 and max y dimemsion = 20000\n"
     ]
    }
   ],
   "source": [
    "for tarinfo in tar:\n",
    "    if tarinfo.isfile() and \".svm\" in tarinfo.name: #reading only SVM files\n",
    "        f = tar.extractfile(tarinfo.name)\n",
    "        X,y = load_svmlight_file(f)\n",
    "        #setting the max var(features)and  max_obs(records)\n",
    "        max_vars = np.maximum(max_vars,X.shape[0])\n",
    "        max_obs = np.maximum(max_obs,X.shape[1])\n",
    "print(\"max Records = {} and max Features = {}\".format(max_obs,max_vars))     \n",
    "'''There are ~3.2 mil features  with 20k observatoion and there are 120 files in total; number of records in total 120 * 20k = 2.4 mill''' "
   ]
  },
  {
   "cell_type": "code",
   "execution_count": 15,
   "metadata": {
    "collapsed": false
   },
   "outputs": [
    {
     "name": "stdout",
     "output_type": "stream",
     "text": [
      "             precision    recall  f1-score   support\n",
      "\n",
      "         -1       1.00      1.00      1.00     18160\n",
      "          1       1.00      0.99      0.99      1840\n",
      "\n",
      "avg / total       1.00      1.00      1.00     20000\n",
      "\n"
     ]
    }
   ],
   "source": [
    "classes = [-1,1]\n",
    "sgd = SGDClassifier(loss='log')\n",
    "n_features = 3231961\n",
    "for tarinfo in tar:\n",
    "    if tarinfo.isfile() and \".svm\" in tarinfo.name:\n",
    "        f = tar.extractfile(tarinfo)\n",
    "        X,y = load_svmlight_file(f, n_features=n_features)\n",
    "        #Batch learning / online learning feeding each chuck to Stochastic Gradient classifier\n",
    "        sgd.partial_fit(X,y, classes= classes)\n",
    "#Printing the final results of online learning        \n",
    "print(classification_report(sgd.predict(X),y))"
   ]
  },
  {
   "cell_type": "code",
   "execution_count": null,
   "metadata": {
    "collapsed": true
   },
   "outputs": [],
   "source": [
    "SGDCl"
   ]
  }
 ],
 "metadata": {
  "kernelspec": {
   "display_name": "Python 3",
   "language": "python",
   "name": "python3"
  },
  "language_info": {
   "codemirror_mode": {
    "name": "ipython",
    "version": 3
   },
   "file_extension": ".py",
   "mimetype": "text/x-python",
   "name": "python",
   "nbconvert_exporter": "python",
   "pygments_lexer": "ipython3",
   "version": "3.5.2"
  }
 },
 "nbformat": 4,
 "nbformat_minor": 0
}
